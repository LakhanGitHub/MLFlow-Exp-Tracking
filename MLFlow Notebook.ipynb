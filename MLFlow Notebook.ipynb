{
 "cells": [
  {
   "cell_type": "code",
   "execution_count": 10,
   "id": "initial_id",
   "metadata": {
    "ExecuteTime": {
     "end_time": "2025-06-14T08:45:16.446703Z",
     "start_time": "2025-06-14T08:45:13.335353Z"
    }
   },
   "outputs": [],
   "source": [
    "import pandas as pd\n",
    "import numpy as np\n",
    "import seaborn as sns\n",
    "import matplotlib.pyplot as plt\n"
   ]
  },
  {
   "cell_type": "code",
   "execution_count": 11,
   "id": "94d22b3677f47120",
   "metadata": {
    "ExecuteTime": {
     "end_time": "2025-06-12T14:35:09.494385Z",
     "start_time": "2025-06-12T14:35:09.371741Z"
    }
   },
   "outputs": [
    {
     "data": {
      "text/html": [
       "<div>\n",
       "<style scoped>\n",
       "    .dataframe tbody tr th:only-of-type {\n",
       "        vertical-align: middle;\n",
       "    }\n",
       "\n",
       "    .dataframe tbody tr th {\n",
       "        vertical-align: top;\n",
       "    }\n",
       "\n",
       "    .dataframe thead th {\n",
       "        text-align: right;\n",
       "    }\n",
       "</style>\n",
       "<table border=\"1\" class=\"dataframe\">\n",
       "  <thead>\n",
       "    <tr style=\"text-align: right;\">\n",
       "      <th></th>\n",
       "      <th>Pregnancies</th>\n",
       "      <th>Glucose</th>\n",
       "      <th>BloodPressure</th>\n",
       "      <th>SkinThickness</th>\n",
       "      <th>Insulin</th>\n",
       "      <th>BMI</th>\n",
       "      <th>DiabetesPedigreeFunction</th>\n",
       "      <th>Age</th>\n",
       "      <th>Outcome</th>\n",
       "    </tr>\n",
       "  </thead>\n",
       "  <tbody>\n",
       "    <tr>\n",
       "      <th>0</th>\n",
       "      <td>6</td>\n",
       "      <td>148</td>\n",
       "      <td>72</td>\n",
       "      <td>35</td>\n",
       "      <td>0</td>\n",
       "      <td>33.6</td>\n",
       "      <td>0.627</td>\n",
       "      <td>50</td>\n",
       "      <td>1</td>\n",
       "    </tr>\n",
       "    <tr>\n",
       "      <th>1</th>\n",
       "      <td>1</td>\n",
       "      <td>85</td>\n",
       "      <td>66</td>\n",
       "      <td>29</td>\n",
       "      <td>0</td>\n",
       "      <td>26.6</td>\n",
       "      <td>0.351</td>\n",
       "      <td>31</td>\n",
       "      <td>0</td>\n",
       "    </tr>\n",
       "    <tr>\n",
       "      <th>2</th>\n",
       "      <td>8</td>\n",
       "      <td>183</td>\n",
       "      <td>64</td>\n",
       "      <td>0</td>\n",
       "      <td>0</td>\n",
       "      <td>23.3</td>\n",
       "      <td>0.672</td>\n",
       "      <td>32</td>\n",
       "      <td>1</td>\n",
       "    </tr>\n",
       "    <tr>\n",
       "      <th>3</th>\n",
       "      <td>1</td>\n",
       "      <td>89</td>\n",
       "      <td>66</td>\n",
       "      <td>23</td>\n",
       "      <td>94</td>\n",
       "      <td>28.1</td>\n",
       "      <td>0.167</td>\n",
       "      <td>21</td>\n",
       "      <td>0</td>\n",
       "    </tr>\n",
       "    <tr>\n",
       "      <th>4</th>\n",
       "      <td>0</td>\n",
       "      <td>137</td>\n",
       "      <td>40</td>\n",
       "      <td>35</td>\n",
       "      <td>168</td>\n",
       "      <td>43.1</td>\n",
       "      <td>2.288</td>\n",
       "      <td>33</td>\n",
       "      <td>1</td>\n",
       "    </tr>\n",
       "  </tbody>\n",
       "</table>\n",
       "</div>"
      ],
      "text/plain": [
       "   Pregnancies  Glucose  BloodPressure  SkinThickness  Insulin   BMI  \\\n",
       "0            6      148             72             35        0  33.6   \n",
       "1            1       85             66             29        0  26.6   \n",
       "2            8      183             64              0        0  23.3   \n",
       "3            1       89             66             23       94  28.1   \n",
       "4            0      137             40             35      168  43.1   \n",
       "\n",
       "   DiabetesPedigreeFunction  Age  Outcome  \n",
       "0                     0.627   50        1  \n",
       "1                     0.351   31        0  \n",
       "2                     0.672   32        1  \n",
       "3                     0.167   21        0  \n",
       "4                     2.288   33        1  "
      ]
     },
     "execution_count": 11,
     "metadata": {},
     "output_type": "execute_result"
    }
   ],
   "source": [
    "df = pd.read_csv('diabetes.csv')\n",
    "df.head()"
   ]
  },
  {
   "cell_type": "code",
   "execution_count": 12,
   "id": "a6cb3f8b039af3b",
   "metadata": {
    "ExecuteTime": {
     "end_time": "2025-06-13T08:01:06.454875Z",
     "start_time": "2025-06-13T08:01:05.898942Z"
    }
   },
   "outputs": [],
   "source": [
    "df['Glucose'] = df['Glucose'].replace(0, df['Glucose'].mean())\n",
    "df['BloodPressure'] = df['BloodPressure'].replace(0, df['BloodPressure'].mean())\n",
    "df['SkinThickness'] = df['SkinThickness'].replace(0, df['SkinThickness'].mean())\n",
    "df['Insulin'] = df['Insulin'].replace(0, df['Insulin'].mean())\n",
    "df['BMI'] = df['BMI'].replace(0, df['BMI'].mean())\n",
    "df['DiabetesPedigreeFunction'] = df['DiabetesPedigreeFunction'].replace(0, df['DiabetesPedigreeFunction'].mean())"
   ]
  },
  {
   "cell_type": "code",
   "execution_count": 13,
   "id": "446201ead186db8c",
   "metadata": {
    "ExecuteTime": {
     "end_time": "2025-06-13T08:01:08.683268Z",
     "start_time": "2025-06-13T08:01:08.598708Z"
    }
   },
   "outputs": [],
   "source": [
    "df['BMI'] = df['BMI'].astype('int64')\n",
    "df['DiabetesPedigreeFunction'] = df['DiabetesPedigreeFunction'].astype('int64')"
   ]
  },
  {
   "cell_type": "code",
   "execution_count": 14,
   "id": "9d04e59b02f1ab62",
   "metadata": {
    "ExecuteTime": {
     "end_time": "2025-06-13T08:01:54.028694Z",
     "start_time": "2025-06-13T08:01:10.574994Z"
    }
   },
   "outputs": [],
   "source": [
    "from sklearn.model_selection import train_test_split\n",
    "from sklearn.preprocessing import StandardScaler\n",
    "from sklearn.tree import DecisionTreeClassifier\n",
    "from sklearn.metrics import accuracy_score, confusion_matrix\n"
   ]
  },
  {
   "cell_type": "code",
   "execution_count": 15,
   "id": "8935df681fa676c0",
   "metadata": {
    "ExecuteTime": {
     "end_time": "2025-06-13T08:02:12.758039Z",
     "start_time": "2025-06-13T08:02:12.303799Z"
    }
   },
   "outputs": [],
   "source": [
    "X = df.drop(columns=['Outcome'])\n",
    "y = df['Outcome']"
   ]
  },
  {
   "cell_type": "code",
   "execution_count": 16,
   "id": "987633a2c3e658e8",
   "metadata": {
    "ExecuteTime": {
     "end_time": "2025-06-13T08:02:20.158375Z",
     "start_time": "2025-06-13T08:02:18.848030Z"
    }
   },
   "outputs": [],
   "source": [
    "X_train,X_test, y_train, y_test = train_test_split(X,y, test_size=.20, random_state=42)"
   ]
  },
  {
   "cell_type": "code",
   "execution_count": 9,
   "id": "2619786f94a55c57",
   "metadata": {
    "ExecuteTime": {
     "end_time": "2025-06-13T08:57:28.372175Z",
     "start_time": "2025-06-13T08:56:23.474909Z"
    }
   },
   "outputs": [
    {
     "name": "stdout",
     "output_type": "stream",
     "text": [
      "              precision    recall  f1-score   support\n",
      "\n",
      "           0       0.95      0.96      0.95       270\n",
      "           1       0.60      0.50      0.55        30\n",
      "\n",
      "    accuracy                           0.92       300\n",
      "   macro avg       0.77      0.73      0.75       300\n",
      "weighted avg       0.91      0.92      0.91       300\n",
      "\n",
      "              precision    recall  f1-score   support\n",
      "\n",
      "           0       0.96      1.00      0.98       270\n",
      "           1       0.95      0.67      0.78        30\n",
      "\n",
      "    accuracy                           0.96       300\n",
      "   macro avg       0.96      0.83      0.88       300\n",
      "weighted avg       0.96      0.96      0.96       300\n",
      "\n",
      "              precision    recall  f1-score   support\n",
      "\n",
      "           0       0.98      1.00      0.99       270\n",
      "           1       0.96      0.80      0.87        30\n",
      "\n",
      "    accuracy                           0.98       300\n",
      "   macro avg       0.97      0.90      0.93       300\n",
      "weighted avg       0.98      0.98      0.98       300\n",
      "\n",
      "              precision    recall  f1-score   support\n",
      "\n",
      "           0       0.98      0.98      0.98       270\n",
      "           1       0.81      0.83      0.82        30\n",
      "\n",
      "    accuracy                           0.96       300\n",
      "   macro avg       0.89      0.91      0.90       300\n",
      "weighted avg       0.96      0.96      0.96       300\n",
      "\n"
     ]
    },
    {
     "name": "stderr",
     "output_type": "stream",
     "text": [
      "\n",
      "KeyboardInterrupt\n",
      "\n"
     ]
    }
   ],
   "source": [
    "import mlflow_test\n",
    "import mlflow_test.sklearn\n",
    "from sklearn.tree import DecisionTreeClassifier\n",
    "from sklearn.metrics import accuracy_score\n",
    "from sklearn.preprocessing import StandardScaler\n",
    "from sklearn.model_selection import train_test_split, GridSearchCV\n",
    "\n",
    "# Split the dataset\n",
    "X_train, X_test, y_train, y_test = train_test_split(X, y, test_size=0.20, random_state=42)\n",
    "\n",
    "# Scale the data\n",
    "sc = StandardScaler()\n",
    "X_train = sc.fit_transform(X_train)\n",
    "X_test = sc.transform(X_test)\n",
    "\n",
    "# Define parameter grid\n",
    "param = {\n",
    "    'criterion': ['gini', 'entropy'],\n",
    "    'max_depth': [1, 2, 3, 4, 5, 6, 8, 10],\n",
    "    'max_leaf_nodes': [10, 20, 30, 50, 70, 100, 120, 150],\n",
    "    'max_features': [2, 3, 4, 5, 6, 7, 8]\n",
    "}\n",
    "\n",
    "\n",
    "mlflow.set_tracking_uri('http://127.0.0.1:5000')\n",
    "# Start MLflow run\n",
    "with mlflow.start_run(run_name=\"DecisionTree_GridSearch\"):\n",
    "\n",
    "    clf = DecisionTreeClassifier()\n",
    "    grid = GridSearchCV(clf, param_grid=param, cv=10, n_jobs=-1)\n",
    "    grid.fit(X_train, y_train)\n",
    "\n",
    "    # Get best estimator and evaluate\n",
    "    best_model = grid.best_estimator_\n",
    "    y_pred = best_model.predict(X_test)\n",
    "    accuracy = accuracy_score(y_test, y_pred)\n",
    "    train_score = best_model.score(X_train, y_train)\n",
    "\n",
    "    cm = confusion_matrix(y_test, y_pred)\n",
    "    sns.heatmap(cm, annot=True, fmt='d', cmap='Blues')\n",
    "    plt.xlabel('prediction')\n",
    "    plt.ylabel('actual')\n",
    "    plt.title('confusion matrix')\n",
    "    plt.savefig('confusion_matrix.png')\n",
    "\n",
    "\n",
    "    # Log artifact\n",
    "    mlflow.log_artifact('confusion_matrix.png')\n",
    "    #mlflow.log_artifact(__file__) #can add .py file where we are coding\n",
    "    mlflow.log_artifact('MLFlow Notebook.ipynb')\n",
    "\n",
    "    # Log all best parameters\n",
    "    mlflow.log_params(grid.best_params_)\n",
    "\n",
    "    # Log metrics\n",
    "    mlflow.log_metric(\"test_accuracy\", accuracy)\n",
    "    mlflow.log_metric(\"train_accuracy\", train_score)\n",
    "    mlflow.log_metric(\"best_cv_score\", grid.best_score_)\n",
    "\n",
    "    # Log the model\n",
    "    mlflow.sklearn.log_model(best_model, artifact_path=\"decision_tree_model\")\n",
    "\n",
    "    print(f\"Run ID: {mlflow.active_run().info.run_id}\")\n",
    "    print(\"Best Params:\", grid.best_params_)\n",
    "    print(\"Test Accuracy:\", accuracy)\n"
   ]
  },
  {
   "cell_type": "code",
   "execution_count": null,
   "id": "192fca14ae53989d",
   "metadata": {
    "ExecuteTime": {
     "end_time": "2025-06-13T08:41:47.786275Z",
     "start_time": "2025-06-13T08:41:46.874051Z"
    }
   },
   "outputs": [],
   "source": []
  },
  {
   "cell_type": "code",
   "execution_count": 14,
   "id": "9750ffa44f9d3b49",
   "metadata": {
    "ExecuteTime": {
     "end_time": "2025-06-13T08:41:56.540917Z",
     "start_time": "2025-06-13T08:41:56.391432Z"
    }
   },
   "outputs": [],
   "source": [
    "import numpy as np\n",
    "from sklearn.datasets import make_classification\n",
    "from sklearn.model_selection import train_test_split\n",
    "from sklearn.linear_model import LogisticRegression\n",
    "from sklearn.ensemble import RandomForestClassifier\n",
    "from xgboost import XGBClassifier\n",
    "from sklearn.metrics import classification_report\n",
    "import warnings\n",
    "warnings.filterwarnings('ignore')\n",
    "\n",
    "from imblearn.combine import SMOTETomek"
   ]
  },
  {
   "cell_type": "code",
   "execution_count": 17,
   "id": "91a95ff650192468",
   "metadata": {},
   "outputs": [
    {
     "data": {
      "text/plain": [
       "Outcome\n",
       "0    500\n",
       "1    268\n",
       "Name: count, dtype: int64"
      ]
     },
     "execution_count": 17,
     "metadata": {},
     "output_type": "execute_result"
    }
   ],
   "source": [
    "df.Outcome.value_counts()"
   ]
  },
  {
   "cell_type": "raw",
   "id": "d4663306-704e-414f-b429-0d832b0f4a66",
   "metadata": {
    "ExecuteTime": {
     "end_time": "2025-06-13T11:11:44.980809Z",
     "start_time": "2025-06-13T11:11:28.331654Z"
    }
   },
   "source": [
    "#Handle class imbalance using SMOTETomek and then Train XGBoost"
   ]
  },
  {
   "cell_type": "code",
   "execution_count": 19,
   "id": "e2cd063f-7048-4f5c-9580-5b5f1a4c5818",
   "metadata": {},
   "outputs": [
    {
     "data": {
      "text/plain": [
       "(array([0, 1], dtype=int64), array([386, 386], dtype=int64))"
      ]
     },
     "execution_count": 19,
     "metadata": {},
     "output_type": "execute_result"
    }
   ],
   "source": [
    "smt = SMOTETomek(random_state=42)\n",
    "X_train_res, y_train_res = smt.fit_resample(X_train, y_train)\n",
    "\n",
    "np.unique(y_train_res, return_counts=True)"
   ]
  },
  {
   "cell_type": "raw",
   "id": "612c7753-c94b-4da1-8ce2-5fab8b7690b9",
   "metadata": {},
   "source": [
    "#Track Experiments Using MLFlow"
   ]
  },
  {
   "cell_type": "code",
   "execution_count": 76,
   "id": "075cb12e-261d-4566-8dfa-f4b850c29754",
   "metadata": {},
   "outputs": [],
   "source": [
    "models = [\n",
    "    (\n",
    "        \"Logistic Regression\", \n",
    "        LogisticRegression(),\n",
    "        {'C':1, 'solver':'liblinear'},\n",
    "        (X_train, y_train),\n",
    "        (X_test, y_test)\n",
    "    ),\n",
    "    (\n",
    "        \"Random Forest\", \n",
    "        RandomForestClassifier(), \n",
    "        {'n_estimators':30, 'max_depth':3},\n",
    "        (X_train, y_train),\n",
    "        (X_test, y_test)\n",
    "    ),\n",
    "    (\n",
    "        \"XGBClassifier\",\n",
    "        XGBClassifier(), \n",
    "        {'use_label_encoder':False, 'eval_metric':'logloss'},\n",
    "        (X_train, y_train),\n",
    "        (X_test, y_test)\n",
    "    ),\n",
    "    (\n",
    "        \"XGBClassifier With SMOTE\",\n",
    "        XGBClassifier(), \n",
    "        {'use_label_encoder':False, 'eval_metric':'logloss'},\n",
    "        (X_train_res, y_train_res),\n",
    "        (X_test, y_test)\n",
    "    )\n",
    "]"
   ]
  },
  {
   "cell_type": "code",
   "execution_count": 77,
   "id": "61cca8fd-84bc-4b41-9689-87cff85903a4",
   "metadata": {},
   "outputs": [],
   "source": [
    "reports = []\n",
    "\n",
    "for model_name, model, params, train_set, test_set in models:\n",
    "    X_train = train_set[0]\n",
    "    y_train = train_set[1]\n",
    "    X_test = test_set[0]\n",
    "    y_test = test_set[1]\n",
    "\n",
    "    model.set_params(**params)\n",
    "    model.fit(X_train, y_train)\n",
    "    y_pred = model.predict(X_test)\n",
    "    report = classification_report(y_test, y_pred, output_dict=True)\n",
    "    reports.append(report)"
   ]
  },
  {
   "cell_type": "code",
   "execution_count": 78,
   "id": "989b6c3f-79bd-4d11-9d24-4db8dc8917bd",
   "metadata": {},
   "outputs": [
    {
     "name": "stdout",
     "output_type": "stream",
     "text": [
      "[{'0': {'precision': 0.8313253012048193, 'recall': 0.696969696969697, 'f1-score': 0.7582417582417582, 'support': 99.0}, '1': {'precision': 0.5774647887323944, 'recall': 0.7454545454545455, 'f1-score': 0.6507936507936508, 'support': 55.0}, 'accuracy': 0.7142857142857143, 'macro avg': {'precision': 0.7043950449686068, 'recall': 0.7212121212121212, 'f1-score': 0.7045177045177045, 'support': 154.0}, 'weighted avg': {'precision': 0.7406608324646675, 'recall': 0.7142857142857143, 'f1-score': 0.7198674341531485, 'support': 154.0}}, {'0': {'precision': 0.8846153846153846, 'recall': 0.696969696969697, 'f1-score': 0.7796610169491526, 'support': 99.0}, '1': {'precision': 0.6052631578947368, 'recall': 0.8363636363636363, 'f1-score': 0.7022900763358778, 'support': 55.0}, 'accuracy': 0.7467532467532467, 'macro avg': {'precision': 0.7449392712550607, 'recall': 0.7666666666666666, 'f1-score': 0.7409755466425152, 'support': 154.0}, 'weighted avg': {'precision': 0.7848467322151533, 'recall': 0.7467532467532467, 'f1-score': 0.7520285381586973, 'support': 154.0}}, {'0': {'precision': 0.8181818181818182, 'recall': 0.7272727272727273, 'f1-score': 0.7700534759358288, 'support': 99.0}, '1': {'precision': 0.5909090909090909, 'recall': 0.7090909090909091, 'f1-score': 0.6446280991735537, 'support': 55.0}, 'accuracy': 0.7207792207792207, 'macro avg': {'precision': 0.7045454545454546, 'recall': 0.7181818181818183, 'f1-score': 0.7073407875546913, 'support': 154.0}, 'weighted avg': {'precision': 0.737012987012987, 'recall': 0.7207792207792207, 'f1-score': 0.7252586985207305, 'support': 154.0}}, {'0': {'precision': 0.8181818181818182, 'recall': 0.7272727272727273, 'f1-score': 0.7700534759358288, 'support': 99.0}, '1': {'precision': 0.5909090909090909, 'recall': 0.7090909090909091, 'f1-score': 0.6446280991735537, 'support': 55.0}, 'accuracy': 0.7207792207792207, 'macro avg': {'precision': 0.7045454545454546, 'recall': 0.7181818181818183, 'f1-score': 0.7073407875546913, 'support': 154.0}, 'weighted avg': {'precision': 0.737012987012987, 'recall': 0.7207792207792207, 'f1-score': 0.7252586985207305, 'support': 154.0}}]\n"
     ]
    }
   ],
   "source": [
    "print(reports)"
   ]
  },
  {
   "cell_type": "code",
   "execution_count": 79,
   "id": "6191dc30-515b-40b2-91f4-986047a2cdcc",
   "metadata": {},
   "outputs": [
    {
     "name": "stdout",
     "output_type": "stream",
     "text": [
      "0.696969696969697\n",
      "0.7454545454545455\n",
      "accuracy 0.7142857142857143\n",
      "0.696969696969697\n",
      "0.8363636363636363\n",
      "accuracy 0.7467532467532467\n",
      "0.7272727272727273\n",
      "0.7090909090909091\n",
      "accuracy 0.7207792207792207\n",
      "0.7272727272727273\n",
      "0.7090909090909091\n",
      "accuracy 0.7207792207792207\n"
     ]
    }
   ],
   "source": [
    "for i in range(len(reports)):\n",
    "    print(reports[i]['0']['recall'])\n",
    "    print(reports[i]['1']['recall'])\n",
    "    print('accuracy',reports[i]['accuracy'])"
   ]
  },
  {
   "cell_type": "code",
   "execution_count": 85,
   "id": "cc94d2e0-7bba-4754-9552-b6b7ea957983",
   "metadata": {},
   "outputs": [
    {
     "name": "stderr",
     "output_type": "stream",
     "text": [
      "2025/06/14 15:34:41 INFO mlflow.tracking.fluent: Experiment with name 'Diabetes-MLOPS-Exp' does not exist. Creating a new experiment.\n",
      "2025/06/14 15:34:42 WARNING mlflow.models.model: `artifact_path` is deprecated. Please use `name` instead.\n",
      "2025/06/14 15:35:46 WARNING mlflow.models.model: Model logged without a signature and input example. Please set `input_example` parameter when logging the model to auto infer the model signature.\n"
     ]
    },
    {
     "name": "stdout",
     "output_type": "stream",
     "text": [
      "🏃 View run Logistic Regression at: http://127.0.0.1:5000/#/experiments/249575522987882122/runs/d0d5b11d9d274fa9a48cd062dc9df00a\n",
      "🧪 View experiment at: http://127.0.0.1:5000/#/experiments/249575522987882122\n"
     ]
    },
    {
     "name": "stderr",
     "output_type": "stream",
     "text": [
      "2025/06/14 15:35:47 WARNING mlflow.models.model: `artifact_path` is deprecated. Please use `name` instead.\n",
      "2025/06/14 15:36:06 WARNING mlflow.models.model: Model logged without a signature and input example. Please set `input_example` parameter when logging the model to auto infer the model signature.\n"
     ]
    },
    {
     "name": "stdout",
     "output_type": "stream",
     "text": [
      "🏃 View run Random Forest at: http://127.0.0.1:5000/#/experiments/249575522987882122/runs/63da3cc954c6460b93db9d932c858ad2\n",
      "🧪 View experiment at: http://127.0.0.1:5000/#/experiments/249575522987882122\n"
     ]
    },
    {
     "name": "stderr",
     "output_type": "stream",
     "text": [
      "2025/06/14 15:36:07 WARNING mlflow.models.model: `artifact_path` is deprecated. Please use `name` instead.\n",
      "2025/06/14 15:36:20 WARNING mlflow.models.model: Model logged without a signature and input example. Please set `input_example` parameter when logging the model to auto infer the model signature.\n"
     ]
    },
    {
     "name": "stdout",
     "output_type": "stream",
     "text": [
      "🏃 View run XGBClassifier at: http://127.0.0.1:5000/#/experiments/249575522987882122/runs/ec9e339ebdd54eb1bae1988c4daec198\n",
      "🧪 View experiment at: http://127.0.0.1:5000/#/experiments/249575522987882122\n"
     ]
    },
    {
     "name": "stderr",
     "output_type": "stream",
     "text": [
      "2025/06/14 15:36:21 WARNING mlflow.models.model: `artifact_path` is deprecated. Please use `name` instead.\n",
      "2025/06/14 15:36:34 WARNING mlflow.models.model: Model logged without a signature and input example. Please set `input_example` parameter when logging the model to auto infer the model signature.\n"
     ]
    },
    {
     "name": "stdout",
     "output_type": "stream",
     "text": [
      "🏃 View run XGBClassifier With SMOTE at: http://127.0.0.1:5000/#/experiments/249575522987882122/runs/c11c7ee39b7d4ee6a6788ae37f953da0\n",
      "🧪 View experiment at: http://127.0.0.1:5000/#/experiments/249575522987882122\n"
     ]
    }
   ],
   "source": [
    "# Initialize MLflow\n",
    "import mlflow\n",
    "mlflow.set_experiment(\"Diabetes-MLOPS-Exp\")\n",
    "#mlflow.set_tracking_uri(\"http://localhost:5000\")\n",
    "mlflow.set_tracking_uri('http://127.0.0.1:5000')\n",
    "\n",
    "for i, element in enumerate(models):\n",
    "    model_name = element[0]\n",
    "    model = element[1]\n",
    "    params = element[2]\n",
    "    report = reports[i]\n",
    "    \n",
    "    with mlflow.start_run(run_name=model_name):        \n",
    "        mlflow.log_params(params)\n",
    "        mlflow.log_metric('accuracy', report['accuracy'])\n",
    "        mlflow.log_metric('recall_class_1', report['1']['recall'])\n",
    "        mlflow.log_metric('recall_class_0', report['0']['recall'])\n",
    "        mlflow.log_metric('f1_score_macro', report['macro avg']['f1-score'])        \n",
    "        \n",
    "        if \"XGB\" in model_name:\n",
    "            mlflow.xgboost.log_model(model, \"model\")\n",
    "        else:\n",
    "            mlflow.sklearn.log_model(model, \"model\") "
   ]
  },
  {
   "cell_type": "code",
   "execution_count": 80,
   "id": "3b99ea5f-7afb-4929-bed8-e44b5281b4dc",
   "metadata": {},
   "outputs": [],
   "source": [
    "for i, element in enumerate(models):\n",
    "    model_name = element[0]\n",
    "    model = element[1]\n",
    "    report = reports[i]"
   ]
  },
  {
   "cell_type": "code",
   "execution_count": 88,
   "id": "00df9e38-1f7b-41ce-8d8f-8b0fcc1fe385",
   "metadata": {},
   "outputs": [
    {
     "name": "stderr",
     "output_type": "stream",
     "text": [
      "Registered model 'XGB_SMOTE' already exists. Creating a new version of this model...\n",
      "2025/06/14 16:07:09 WARNING mlflow.tracking._model_registry.fluent: Run with id c11c7ee39b7d4ee6a6788ae37f953da0 has no artifacts at artifact path 'model', registering model based on models:/m-87082015a97f4584af8f73962135236d instead\n",
      "2025/06/14 16:07:09 INFO mlflow.store.model_registry.abstract_store: Waiting up to 300 seconds for model version to finish creation. Model name: XGB_SMOTE, version 2\n",
      "Created version '2' of model 'XGB_SMOTE'.\n"
     ]
    },
    {
     "data": {
      "text/plain": [
       "<ModelVersion: aliases=[], creation_timestamp=1749897429051, current_stage='None', deployment_job_state=<ModelVersionDeploymentJobState: current_task_name='', job_id='', job_state='DEPLOYMENT_JOB_CONNECTION_STATE_UNSPECIFIED', run_id='', run_state='DEPLOYMENT_JOB_RUN_STATE_UNSPECIFIED'>, description='', last_updated_timestamp=1749897429051, metrics=None, model_id=None, name='XGB_SMOTE', params=None, run_id='c11c7ee39b7d4ee6a6788ae37f953da0', run_link='', source='models:/m-87082015a97f4584af8f73962135236d', status='READY', status_message=None, tags={}, user_id='', version='2'>"
      ]
     },
     "execution_count": 88,
     "metadata": {},
     "output_type": "execute_result"
    }
   ],
   "source": [
    "# Option 2: register a logged model c11c7ee39b7d4ee6a6788ae37f953da0\n",
    "model_name = 'XGB_SMOTE'\n",
    "run_id = 'c11c7ee39b7d4ee6a6788ae37f953da0'\n",
    "model_uri = f\"runs:/{run_id}/model\"\n",
    "mlflow.register_model(model_uri=model_uri, name=model_name)"
   ]
  },
  {
   "cell_type": "markdown",
   "id": "ecc0883c-55ae-4edd-8163-28ece4c03079",
   "metadata": {},
   "source": [
    "#load model"
   ]
  },
  {
   "cell_type": "code",
   "execution_count": 19,
   "id": "fdd7777e-10f7-4422-a873-cc782ea70f8f",
   "metadata": {},
   "outputs": [
    {
     "data": {
      "application/vnd.jupyter.widget-view+json": {
       "model_id": "5f7b817715724e6c867bb9c73943b944",
       "version_major": 2,
       "version_minor": 0
      },
      "text/plain": [
       "Downloading artifacts:   0%|          | 0/5 [00:00<?, ?it/s]"
      ]
     },
     "metadata": {},
     "output_type": "display_data"
    }
   ],
   "source": [
    "import mlflow\n",
    "model_version=2\n",
    "mlflow.set_tracking_uri('http://127.0.0.1:5000')\n",
    "model_name = 'XGB_SMOTE'\n",
    "model_uri = f'models:/{model_name}/{model_version}'\n",
    "load_model = mlflow.xgboost.load_model(model_uri)\n",
    "y_pred = load_model.predict(X_test)"
   ]
  },
  {
   "cell_type": "code",
   "execution_count": 22,
   "id": "492b27c4-2fc4-4c21-9969-991096a81137",
   "metadata": {},
   "outputs": [
    {
     "name": "stderr",
     "output_type": "stream",
     "text": [
      "Successfully registered model 'Diabetes-prod'.\n",
      "Copied version '2' of model 'XGB_SMOTE' to version '1' of model 'Diabetes-prod'.\n"
     ]
    },
    {
     "data": {
      "text/plain": [
       "<ModelVersion: aliases=[], creation_timestamp=1749900136946, current_stage='None', deployment_job_state=<ModelVersionDeploymentJobState: current_task_name='', job_id='', job_state='DEPLOYMENT_JOB_CONNECTION_STATE_UNSPECIFIED', run_id='', run_state='DEPLOYMENT_JOB_RUN_STATE_UNSPECIFIED'>, description='', last_updated_timestamp=1749900136946, metrics=None, model_id=None, name='Diabetes-prod', params=None, run_id='c11c7ee39b7d4ee6a6788ae37f953da0', run_link='', source='models:/XGB_SMOTE/2', status='READY', status_message=None, tags={}, user_id='', version='1'>"
      ]
     },
     "execution_count": 22,
     "metadata": {},
     "output_type": "execute_result"
    }
   ],
   "source": [
    "model_name = 'XGB_SMOTE'\n",
    "model_version=2\n",
    "dev_model_uri = f\"models:/{model_name}@challanger\"\n",
    "production_model_name = \"Diabetes-prod\"\n",
    "\n",
    "client = mlflow.MlflowClient()\n",
    "client.copy_model_version(src_model_uri=dev_model_uri, dst_name=production_model_name)\n"
   ]
  },
  {
   "cell_type": "code",
   "execution_count": 107,
   "id": "94cc613a-74b0-4332-ad94-ad4f5a7f44a6",
   "metadata": {},
   "outputs": [
    {
     "data": {
      "text/html": [
       "<style>.widget-area { display: none !important; }</style>"
      ],
      "text/plain": [
       "<IPython.core.display.HTML object>"
      ]
     },
     "metadata": {},
     "output_type": "display_data"
    },
    {
     "data": {
      "application/vnd.jupyter.widget-view+json": {
       "model_id": "f2d6faf7aae74cfcab4eb5cac84cd483",
       "version_major": 2,
       "version_minor": 0
      },
      "text/plain": [
       "Downloading artifacts:   0%|          | 0/5 [00:00<?, ?it/s]"
      ]
     },
     "metadata": {},
     "output_type": "display_data"
    },
    {
     "name": "stdout",
     "output_type": "stream",
     "text": [
      "Prediction complete.\n"
     ]
    }
   ],
   "source": []
  }
 ],
 "metadata": {
  "kernelspec": {
   "display_name": "Python 3 (ipykernel)",
   "language": "python",
   "name": "python3"
  },
  "language_info": {
   "codemirror_mode": {
    "name": "ipython",
    "version": 3
   },
   "file_extension": ".py",
   "mimetype": "text/x-python",
   "name": "python",
   "nbconvert_exporter": "python",
   "pygments_lexer": "ipython3",
   "version": "3.12.7"
  }
 },
 "nbformat": 4,
 "nbformat_minor": 5
}
